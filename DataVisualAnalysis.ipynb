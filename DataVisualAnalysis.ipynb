{
  "nbformat": 4,
  "nbformat_minor": 0,
  "metadata": {
    "colab": {
      "name": "DataVisualAnalysis.ipynb",
      "provenance": [],
      "collapsed_sections": [],
      "toc_visible": true,
      "authorship_tag": "ABX9TyPqz18RXWv3wvMP/kmdZNQd",
      "include_colab_link": true
    },
    "kernelspec": {
      "name": "python3",
      "display_name": "Python 3"
    },
    "accelerator": "GPU"
  },
  "cells": [
    {
      "cell_type": "markdown",
      "metadata": {
        "id": "view-in-github",
        "colab_type": "text"
      },
      "source": [
        "<a href=\"https://colab.research.google.com/github/daveMitra/Helloku2Project/blob/master/DataVisualAnalysis.ipynb\" target=\"_parent\"><img src=\"https://colab.research.google.com/assets/colab-badge.svg\" alt=\"Open In Colab\"/></a>"
      ]
    },
    {
      "cell_type": "markdown",
      "metadata": {
        "id": "NWKETr8mCfaA",
        "colab_type": "text"
      },
      "source": [
        "# I - Setting up the Environment\n",
        "We will set up the environment required for the project.\n",
        " - Mount the data in drive to notebook.\n",
        " - import libraries required for the project."
      ]
    },
    {
      "cell_type": "markdown",
      "metadata": {
        "id": "SMkXUl4JFqey",
        "colab_type": "text"
      },
      "source": [
        "#### Importing packages"
      ]
    },
    {
      "cell_type": "code",
      "metadata": {
        "id": "iKCoPLldK94J",
        "colab_type": "code",
        "colab": {
          "base_uri": "https://localhost:8080/",
          "height": 224
        },
        "outputId": "3c61d7be-a0cb-44c4-f35d-a924a66d94fd"
      },
      "source": [
        "!pip install seaborn"
      ],
      "execution_count": 1,
      "outputs": [
        {
          "output_type": "stream",
          "text": [
            "Requirement already satisfied: seaborn in /usr/local/lib/python3.6/dist-packages (0.10.1)\n",
            "Requirement already satisfied: scipy>=1.0.1 in /usr/local/lib/python3.6/dist-packages (from seaborn) (1.4.1)\n",
            "Requirement already satisfied: matplotlib>=2.1.2 in /usr/local/lib/python3.6/dist-packages (from seaborn) (3.2.2)\n",
            "Requirement already satisfied: numpy>=1.13.3 in /usr/local/lib/python3.6/dist-packages (from seaborn) (1.18.5)\n",
            "Requirement already satisfied: pandas>=0.22.0 in /usr/local/lib/python3.6/dist-packages (from seaborn) (1.0.5)\n",
            "Requirement already satisfied: python-dateutil>=2.1 in /usr/local/lib/python3.6/dist-packages (from matplotlib>=2.1.2->seaborn) (2.8.1)\n",
            "Requirement already satisfied: cycler>=0.10 in /usr/local/lib/python3.6/dist-packages (from matplotlib>=2.1.2->seaborn) (0.10.0)\n",
            "Requirement already satisfied: kiwisolver>=1.0.1 in /usr/local/lib/python3.6/dist-packages (from matplotlib>=2.1.2->seaborn) (1.2.0)\n",
            "Requirement already satisfied: pyparsing!=2.0.4,!=2.1.2,!=2.1.6,>=2.0.1 in /usr/local/lib/python3.6/dist-packages (from matplotlib>=2.1.2->seaborn) (2.4.7)\n",
            "Requirement already satisfied: pytz>=2017.2 in /usr/local/lib/python3.6/dist-packages (from pandas>=0.22.0->seaborn) (2018.9)\n",
            "Requirement already satisfied: six>=1.5 in /usr/local/lib/python3.6/dist-packages (from python-dateutil>=2.1->matplotlib>=2.1.2->seaborn) (1.15.0)\n"
          ],
          "name": "stdout"
        }
      ]
    },
    {
      "cell_type": "code",
      "metadata": {
        "id": "6cnKgYElFXjE",
        "colab_type": "code",
        "colab": {
          "base_uri": "https://localhost:8080/",
          "height": 71
        },
        "outputId": "74e0f976-2ca8-4c13-e5da-bf3f1da3dbb9"
      },
      "source": [
        "from google.colab import drive\n",
        "import matplotlib.pyplot as plt\n",
        "import pandas as pd\n",
        "import seaborn as sns"
      ],
      "execution_count": 2,
      "outputs": [
        {
          "output_type": "stream",
          "text": [
            "/usr/local/lib/python3.6/dist-packages/statsmodels/tools/_testing.py:19: FutureWarning: pandas.util.testing is deprecated. Use the functions in the public API at pandas.testing instead.\n",
            "  import pandas.util.testing as tm\n"
          ],
          "name": "stderr"
        }
      ]
    },
    {
      "cell_type": "code",
      "metadata": {
        "id": "ygm5tLhPFmca",
        "colab_type": "code",
        "colab": {
          "base_uri": "https://localhost:8080/",
          "height": 122
        },
        "outputId": "79f2aedb-4b78-4e3b-985e-7f57e61b9db2"
      },
      "source": [
        "# Mounting the Drive\n",
        "drive.mount('/content/drive')"
      ],
      "execution_count": 4,
      "outputs": [
        {
          "output_type": "stream",
          "text": [
            "Go to this URL in a browser: https://accounts.google.com/o/oauth2/auth?client_id=947318989803-6bn6qk8qdgf4n4g3pfee6491hc0brc4i.apps.googleusercontent.com&redirect_uri=urn%3aietf%3awg%3aoauth%3a2.0%3aoob&scope=email%20https%3a%2f%2fwww.googleapis.com%2fauth%2fdocs.test%20https%3a%2f%2fwww.googleapis.com%2fauth%2fdrive%20https%3a%2f%2fwww.googleapis.com%2fauth%2fdrive.photos.readonly%20https%3a%2f%2fwww.googleapis.com%2fauth%2fpeopleapi.readonly&response_type=code\n",
            "\n",
            "Enter your authorization code:\n",
            "··········\n",
            "Mounted at /content/drive\n"
          ],
          "name": "stdout"
        }
      ]
    },
    {
      "cell_type": "markdown",
      "metadata": {
        "id": "YNMMwp1MCoE1",
        "colab_type": "text"
      },
      "source": [
        "# II - Exploratory Data Analysis\n",
        "In this project we will try to perform Exploratory Data Analyisis using visualisation libraries of python.\n"
      ]
    },
    {
      "cell_type": "code",
      "metadata": {
        "id": "5PZnTLJdC0N_",
        "colab_type": "code",
        "colab": {}
      },
      "source": [
        "df = pd.read_csv('/content/drive/My Drive/ThesisData/Voice_Asst_CSV.csv')"
      ],
      "execution_count": 5,
      "outputs": []
    },
    {
      "cell_type": "code",
      "metadata": {
        "id": "q3JBJKqmHZe8",
        "colab_type": "code",
        "colab": {
          "base_uri": "https://localhost:8080/",
          "height": 581
        },
        "outputId": "397044ec-aac4-4f8d-b47e-5f975f1b7697"
      },
      "source": [
        "df.head()"
      ],
      "execution_count": 6,
      "outputs": [
        {
          "output_type": "execute_result",
          "data": {
            "text/html": [
              "<div>\n",
              "<style scoped>\n",
              "    .dataframe tbody tr th:only-of-type {\n",
              "        vertical-align: middle;\n",
              "    }\n",
              "\n",
              "    .dataframe tbody tr th {\n",
              "        vertical-align: top;\n",
              "    }\n",
              "\n",
              "    .dataframe thead th {\n",
              "        text-align: right;\n",
              "    }\n",
              "</style>\n",
              "<table border=\"1\" class=\"dataframe\">\n",
              "  <thead>\n",
              "    <tr style=\"text-align: right;\">\n",
              "      <th></th>\n",
              "      <th>Gender</th>\n",
              "      <th>Age</th>\n",
              "      <th>VoiceAssistant</th>\n",
              "      <th>effectiveway</th>\n",
              "      <th>VAregularbasis</th>\n",
              "      <th>Commonpurpose</th>\n",
              "      <th>Otherpurposes</th>\n",
              "      <th>financialtransactions</th>\n",
              "      <th>frequency</th>\n",
              "      <th>Place</th>\n",
              "      <th>helpfulness</th>\n",
              "      <th>Satisfaction</th>\n",
              "      <th>Socialpresence</th>\n",
              "      <th>Enjoyable</th>\n",
              "      <th>Futureuse</th>\n",
              "      <th>Why do you prefer not using Voice Assistants?</th>\n",
              "      <th>Do you hesitate to share your personal information with a Voice Assistant?</th>\n",
              "      <th>Do you feel concerned to perform a financial transaction via Voice Assistants?</th>\n",
              "      <th>Do you feel the Voice Assistants are recording you?</th>\n",
              "      <th>Do you think Voice Assistants might help you with better communication with your Devices?</th>\n",
              "      <th>Do you plan to use Voice Assistant in the future?</th>\n",
              "    </tr>\n",
              "  </thead>\n",
              "  <tbody>\n",
              "    <tr>\n",
              "      <th>0</th>\n",
              "      <td>Male</td>\n",
              "      <td>25 to 34</td>\n",
              "      <td>Google Assistant (Android)</td>\n",
              "      <td>Yes</td>\n",
              "      <td>Yes</td>\n",
              "      <td>Make Calls, Play Music, Send Messages, Get Wea...</td>\n",
              "      <td>Calendar Scheduling, Web searches, Send Emails...</td>\n",
              "      <td>Ask OPT</td>\n",
              "      <td>Twice a Day</td>\n",
              "      <td>While driving, At home</td>\n",
              "      <td>7.0</td>\n",
              "      <td>Satisfied</td>\n",
              "      <td>Yes</td>\n",
              "      <td>Yes</td>\n",
              "      <td>Yes</td>\n",
              "      <td>NaN</td>\n",
              "      <td>NaN</td>\n",
              "      <td>NaN</td>\n",
              "      <td>NaN</td>\n",
              "      <td>NaN</td>\n",
              "      <td>NaN</td>\n",
              "    </tr>\n",
              "    <tr>\n",
              "      <th>1</th>\n",
              "      <td>Male</td>\n",
              "      <td>25 to 34</td>\n",
              "      <td>Google Assistant (Android)</td>\n",
              "      <td>No</td>\n",
              "      <td>No</td>\n",
              "      <td>NaN</td>\n",
              "      <td>NaN</td>\n",
              "      <td>NaN</td>\n",
              "      <td>NaN</td>\n",
              "      <td>NaN</td>\n",
              "      <td>NaN</td>\n",
              "      <td>NaN</td>\n",
              "      <td>NaN</td>\n",
              "      <td>NaN</td>\n",
              "      <td>NaN</td>\n",
              "      <td>Privacy concerns, Not like to use it</td>\n",
              "      <td>Yes</td>\n",
              "      <td>Yes</td>\n",
              "      <td>Yes</td>\n",
              "      <td>No</td>\n",
              "      <td>No</td>\n",
              "    </tr>\n",
              "    <tr>\n",
              "      <th>2</th>\n",
              "      <td>Female</td>\n",
              "      <td>25 to 34</td>\n",
              "      <td>Google Assistant (Android)</td>\n",
              "      <td>Yes</td>\n",
              "      <td>No</td>\n",
              "      <td>NaN</td>\n",
              "      <td>NaN</td>\n",
              "      <td>NaN</td>\n",
              "      <td>NaN</td>\n",
              "      <td>NaN</td>\n",
              "      <td>NaN</td>\n",
              "      <td>NaN</td>\n",
              "      <td>NaN</td>\n",
              "      <td>NaN</td>\n",
              "      <td>NaN</td>\n",
              "      <td>Privacy concerns</td>\n",
              "      <td>Yes</td>\n",
              "      <td>Yes</td>\n",
              "      <td>Yes</td>\n",
              "      <td>No</td>\n",
              "      <td>Maybe</td>\n",
              "    </tr>\n",
              "    <tr>\n",
              "      <th>3</th>\n",
              "      <td>Male</td>\n",
              "      <td>25 to 34</td>\n",
              "      <td>Alexa (Amazon echo)</td>\n",
              "      <td>Yes</td>\n",
              "      <td>Yes</td>\n",
              "      <td>Play Music, Get Weather, For Fun</td>\n",
              "      <td>GPS, Web searches</td>\n",
              "      <td>None</td>\n",
              "      <td>Multiple times in Day</td>\n",
              "      <td>At home</td>\n",
              "      <td>7.0</td>\n",
              "      <td>Neutral</td>\n",
              "      <td>Yes</td>\n",
              "      <td>Yes</td>\n",
              "      <td>Yes</td>\n",
              "      <td>NaN</td>\n",
              "      <td>NaN</td>\n",
              "      <td>NaN</td>\n",
              "      <td>NaN</td>\n",
              "      <td>NaN</td>\n",
              "      <td>NaN</td>\n",
              "    </tr>\n",
              "    <tr>\n",
              "      <th>4</th>\n",
              "      <td>Male</td>\n",
              "      <td>21 to 24</td>\n",
              "      <td>Google Assistant (Android)</td>\n",
              "      <td>Yes</td>\n",
              "      <td>Yes</td>\n",
              "      <td>Open Applications, For Fun</td>\n",
              "      <td>Web searches, Ask Questions, Get News</td>\n",
              "      <td>None</td>\n",
              "      <td>Once in week</td>\n",
              "      <td>At home</td>\n",
              "      <td>8.0</td>\n",
              "      <td>Satisfied</td>\n",
              "      <td>Yes</td>\n",
              "      <td>Yes</td>\n",
              "      <td>Yes</td>\n",
              "      <td>NaN</td>\n",
              "      <td>NaN</td>\n",
              "      <td>NaN</td>\n",
              "      <td>NaN</td>\n",
              "      <td>NaN</td>\n",
              "      <td>NaN</td>\n",
              "    </tr>\n",
              "  </tbody>\n",
              "</table>\n",
              "</div>"
            ],
            "text/plain": [
              "   Gender  ... Do you plan to use Voice Assistant in the future?\n",
              "0    Male  ...                                               NaN\n",
              "1    Male  ...                                                No\n",
              "2  Female  ...                                             Maybe\n",
              "3    Male  ...                                               NaN\n",
              "4    Male  ...                                               NaN\n",
              "\n",
              "[5 rows x 21 columns]"
            ]
          },
          "metadata": {
            "tags": []
          },
          "execution_count": 6
        }
      ]
    },
    {
      "cell_type": "markdown",
      "metadata": {
        "id": "fG_f5QEYIAqQ",
        "colab_type": "text"
      },
      "source": [
        "#### Quick Data Check\n",
        "\n",
        "- Above Table Shows a sample of Data.\n",
        "- There are total 21 columns in our data set.\n",
        "- We have 260 rows of Data"
      ]
    },
    {
      "cell_type": "code",
      "metadata": {
        "id": "HDvNWJ0qHyT_",
        "colab_type": "code",
        "colab": {
          "base_uri": "https://localhost:8080/",
          "height": 374
        },
        "outputId": "fa06f28f-7867-4639-a720-5de93283b95b"
      },
      "source": [
        "# ;et us check how many data points are available\n",
        "column_names = list(df.columns)\n",
        "column_names"
      ],
      "execution_count": 7,
      "outputs": [
        {
          "output_type": "execute_result",
          "data": {
            "text/plain": [
              "['Gender',\n",
              " 'Age',\n",
              " 'VoiceAssistant',\n",
              " 'effectiveway',\n",
              " 'VAregularbasis',\n",
              " 'Commonpurpose',\n",
              " 'Otherpurposes',\n",
              " 'financialtransactions',\n",
              " 'frequency',\n",
              " 'Place',\n",
              " ' helpfulness',\n",
              " 'Satisfaction',\n",
              " 'Socialpresence',\n",
              " 'Enjoyable',\n",
              " 'Futureuse',\n",
              " 'Why do you prefer not using Voice Assistants?',\n",
              " 'Do you hesitate to share your personal information with a Voice Assistant?',\n",
              " 'Do you feel concerned to perform a financial transaction via Voice Assistants?',\n",
              " 'Do you feel the Voice Assistants are recording you?',\n",
              " 'Do you think Voice Assistants might help you with better communication with your Devices?',\n",
              " 'Do you plan to use Voice Assistant in the future?']"
            ]
          },
          "metadata": {
            "tags": []
          },
          "execution_count": 7
        }
      ]
    },
    {
      "cell_type": "markdown",
      "metadata": {
        "id": "ZC7HkJdlJ5rr",
        "colab_type": "text"
      },
      "source": [
        ""
      ]
    },
    {
      "cell_type": "markdown",
      "metadata": {
        "id": "eopDbMe0C0w2",
        "colab_type": "text"
      },
      "source": [
        "# III - Analysis 1 - \"Voice Assistance\" : \n",
        "\n",
        " We can prepare a Pie chart or Bar graph for the uses   (calls, mails, music, etc.) of the above Voice Assistance. We will be able to analyze the purposes for which Voice Assistance is used the most and the least.\n",
        "\n",
        "We will have following analysis below\n",
        "\n",
        "  - How many kinds of Voice Assistance platforms are there\n",
        "  - \n"
      ]
    },
    {
      "cell_type": "code",
      "metadata": {
        "id": "-6mCpNN-OMer",
        "colab_type": "code",
        "colab": {}
      },
      "source": [
        "def strip_whitespace(val):\n",
        "    val = val.strip()\n",
        "    val = val.replace('(', '')\n",
        "    val = val.replace(')', '')\n",
        "    return val"
      ],
      "execution_count": 8,
      "outputs": []
    },
    {
      "cell_type": "code",
      "metadata": {
        "id": "V21C9N90OY41",
        "colab_type": "code",
        "colab": {}
      },
      "source": [
        "df['VoiceAssistant'] = df['VoiceAssistant'].apply(strip_whitespace)\n",
        "# df[\"VoiceAssistant\"]= df[\"VoiceAssistant\"].astype(str)"
      ],
      "execution_count": 9,
      "outputs": []
    },
    {
      "cell_type": "code",
      "metadata": {
        "id": "tgG_SQalQ7_4",
        "colab_type": "code",
        "colab": {
          "base_uri": "https://localhost:8080/",
          "height": 221
        },
        "outputId": "0f148a00-5875-45c6-8117-e1270ab0f17b"
      },
      "source": [
        "df[\"VoiceAssistant\"]"
      ],
      "execution_count": 10,
      "outputs": [
        {
          "output_type": "execute_result",
          "data": {
            "text/plain": [
              "0      Google Assistant Android\n",
              "1      Google Assistant Android\n",
              "2      Google Assistant Android\n",
              "3             Alexa Amazon echo\n",
              "4      Google Assistant Android\n",
              "                 ...           \n",
              "255    Google Assistant Android\n",
              "256                 Siri iPhone\n",
              "257       Bixby Android Samsung\n",
              "258                 Siri iPhone\n",
              "259           Alexa Amazon echo\n",
              "Name: VoiceAssistant, Length: 260, dtype: object"
            ]
          },
          "metadata": {
            "tags": []
          },
          "execution_count": 10
        }
      ]
    },
    {
      "cell_type": "code",
      "metadata": {
        "id": "67RpGcPgDNxC",
        "colab_type": "code",
        "colab": {}
      },
      "source": [
        "# import seaborn as sns\n",
        "# # sns.set(style=\"darkgrid\")\n",
        "\n",
        "\n",
        "# surveydata = sns.load_dataset(df)\n",
        "\n",
        "# ax = sns.countplot(x=\"VoiceAssistant\", data=surveydata)"
      ],
      "execution_count": 11,
      "outputs": []
    },
    {
      "cell_type": "code",
      "metadata": {
        "id": "5F3jbvjsL9kP",
        "colab_type": "code",
        "colab": {
          "base_uri": "https://localhost:8080/",
          "height": 412
        },
        "outputId": "1440531b-d9e6-4854-f0b7-513e27b9b750"
      },
      "source": [
        "df['VoiceAssistant'].value_counts().plot(kind='bar')"
      ],
      "execution_count": 12,
      "outputs": [
        {
          "output_type": "execute_result",
          "data": {
            "text/plain": [
              "<matplotlib.axes._subplots.AxesSubplot at 0x7f229615a940>"
            ]
          },
          "metadata": {
            "tags": []
          },
          "execution_count": 12
        },
        {
          "output_type": "display_data",
          "data": {
            "image/png": "[encoded data removed]",
            "text/plain": [
              "<Figure size 432x288 with 1 Axes>"
            ]
          },
          "metadata": {
            "tags": [],
            "needs_background": "light"
          }
        }
      ]
    },
    {
      "cell_type": "code",
      "metadata": {
        "id": "SnqvdG1pSycl",
        "colab_type": "code",
        "colab": {
          "base_uri": "https://localhost:8080/",
          "height": 483
        },
        "outputId": "c1e80550-1f64-48eb-f8ae-e06051870dfe"
      },
      "source": [
        "df['VoiceAssistant'].value_counts().plot(kind='pie', figsize=(10, 8),  autopct='%1.1f%%')"
      ],
      "execution_count": 13,
      "outputs": [
        {
          "output_type": "execute_result",
          "data": {
            "text/plain": [
              "<matplotlib.axes._subplots.AxesSubplot at 0x7f22960b56a0>"
            ]
          },
          "metadata": {
            "tags": []
          },
          "execution_count": 13
        },
        {
          "output_type": "display_data",
          "data": {
            "image/png": "[encoded data removed]",
            "text/plain": [
              "<Figure size 720x576 with 1 Axes>"
            ]
          },
          "metadata": {
            "tags": []
          }
        }
      ]
    },
    {
      "cell_type": "code",
      "metadata": {
        "id": "9VhnmG3ZiV6e",
        "colab_type": "code",
        "colab": {}
      },
      "source": [
        ""
      ],
      "execution_count": 13,
      "outputs": []
    },
    {
      "cell_type": "code",
      "metadata": {
        "id": "BT27iOGIR-UX",
        "colab_type": "code",
        "colab": {
          "base_uri": "https://localhost:8080/",
          "height": 630
        },
        "outputId": "df0bc4fe-a367-4298-8f7e-41c210a18645"
      },
      "source": [
        "df['VoiceAssistant'].value_counts().plot(kind='bar', figsize=(10, 8))"
      ],
      "execution_count": 14,
      "outputs": [
        {
          "output_type": "execute_result",
          "data": {
            "text/plain": [
              "<matplotlib.axes._subplots.AxesSubplot at 0x7f2295bc4a20>"
            ]
          },
          "metadata": {
            "tags": []
          },
          "execution_count": 14
        },
        {
          "output_type": "display_data",
          "data": {
            "image/png": "[encoded data removed]",
            "text/plain": [
              "<Figure size 720x576 with 1 Axes>"
            ]
          },
          "metadata": {
            "tags": [],
            "needs_background": "light"
          }
        }
      ]
    },
    {
      "cell_type": "code",
      "metadata": {
        "id": "wtNEWHDuTnq5",
        "colab_type": "code",
        "colab": {}
      },
      "source": [
        "# How Many"
      ],
      "execution_count": 15,
      "outputs": []
    },
    {
      "cell_type": "code",
      "metadata": {
        "id": "LBqEeIaciZom",
        "colab_type": "code",
        "colab": {}
      },
      "source": [
        "df_age_joy = df[['Age', 'Enjoyable']]"
      ],
      "execution_count": 16,
      "outputs": []
    },
    {
      "cell_type": "code",
      "metadata": {
        "id": "n4BsBEfVi2Pp",
        "colab_type": "code",
        "colab": {
          "base_uri": "https://localhost:8080/",
          "height": 563
        },
        "outputId": "c2618283-ef54-4079-d726-e06e06d48e3f"
      },
      "source": [
        " df_sat_pivotej = df_age_joy.pivot_table(index=['Age','Enjoyable'], columns='Enjoyable', aggfunc='size', fill_value=0)\n",
        " ax = df_sat_pivotej.plot(kind='bar',  figsize=(10, 8))\n",
        "for p in ax.patches:\n",
        "    ax.annotate(str(p.get_height()), xy=(p.get_x(), p.get_height()))"
      ],
      "execution_count": 17,
      "outputs": [
        {
          "output_type": "display_data",
          "data": {
            "image/png": "[encoded data removed]",
            "text/plain": [
              "<Figure size 720x576 with 1 Axes>"
            ]
          },
          "metadata": {
            "tags": [],
            "needs_background": "light"
          }
        }
      ]
    },
    {
      "cell_type": "code",
      "metadata": {
        "id": "00hIyFRDl0UK",
        "colab_type": "code",
        "colab": {
          "base_uri": "https://localhost:8080/",
          "height": 553
        },
        "outputId": "40288bba-f882-47fc-bbc6-3c6aac64e503"
      },
      "source": [
        "df_gen_enj = df[['Gender', 'Enjoyable']]\n",
        "df_sat_pivoteenjgender =df_gen_enj.pivot_table(index=['Gender','Enjoyable'], columns='Enjoyable', aggfunc='size', fill_value=0)\n",
        "ax = df_sat_pivoteenjgender.plot(kind='bar',  figsize=(10, 8))\n",
        "for p in ax.patches:\n",
        "    ax.annotate(str(p.get_height()), xy=(p.get_x(), p.get_height()))"
      ],
      "execution_count": 18,
      "outputs": [
        {
          "output_type": "display_data",
          "data": {
            "image/png": "[encoded data removed]",
            "text/plain": [
              "<Figure size 720x576 with 1 Axes>"
            ]
          },
          "metadata": {
            "tags": [],
            "needs_background": "light"
          }
        }
      ]
    },
    {
      "cell_type": "code",
      "metadata": {
        "id": "Htbc8C1FwXzR",
        "colab_type": "code",
        "colab": {
          "base_uri": "https://localhost:8080/",
          "height": 595
        },
        "outputId": "57f6fe01-1acd-43ba-cca7-d277c264c86f"
      },
      "source": [
        "df_gen_enj = df[['Gender', 'Satisfaction']]\n",
        "df_sat_pivoteenjgender =df_gen_enj.pivot_table(index=['Gender','Satisfaction'], columns='Satisfaction', aggfunc='size', fill_value=0)\n",
        "ax = df_sat_pivoteenjgender.plot(kind='bar',  figsize=(10, 8))\n",
        "for p in ax.patches:\n",
        "    ax.annotate(str(p.get_height()), xy=(p.get_x(), p.get_height()))"
      ],
      "execution_count": 19,
      "outputs": [
        {
          "output_type": "display_data",
          "data": {
            "image/png": "[encoded data removed]",
            "text/plain": [
              "<Figure size 720x576 with 1 Axes>"
            ]
          },
          "metadata": {
            "tags": [],
            "needs_background": "light"
          }
        }
      ]
    },
    {
      "cell_type": "markdown",
      "metadata": {
        "id": "pV5bqc4IWqDb",
        "colab_type": "text"
      },
      "source": [
        "# IV - Satisfaction Rate per Age Group\n",
        "\n",
        "- Satisfaction rate corresponding to age.\n",
        "(Based on the answer provided for this question - How satisfied are you with Voice Assistants?) \n"
      ]
    },
    {
      "cell_type": "code",
      "metadata": {
        "id": "7mlmVClpW6ht",
        "colab_type": "code",
        "colab": {
          "base_uri": "https://localhost:8080/",
          "height": 419
        },
        "outputId": "242be14e-0df5-4370-b5ac-d10dee8f9472"
      },
      "source": [
        "df_satisfaction_age = df[['Age', 'Satisfaction']]\n",
        "df_satisfaction_age\n"
      ],
      "execution_count": 20,
      "outputs": [
        {
          "output_type": "execute_result",
          "data": {
            "text/html": [
              "<div>\n",
              "<style scoped>\n",
              "    .dataframe tbody tr th:only-of-type {\n",
              "        vertical-align: middle;\n",
              "    }\n",
              "\n",
              "    .dataframe tbody tr th {\n",
              "        vertical-align: top;\n",
              "    }\n",
              "\n",
              "    .dataframe thead th {\n",
              "        text-align: right;\n",
              "    }\n",
              "</style>\n",
              "<table border=\"1\" class=\"dataframe\">\n",
              "  <thead>\n",
              "    <tr style=\"text-align: right;\">\n",
              "      <th></th>\n",
              "      <th>Age</th>\n",
              "      <th>Satisfaction</th>\n",
              "    </tr>\n",
              "  </thead>\n",
              "  <tbody>\n",
              "    <tr>\n",
              "      <th>0</th>\n",
              "      <td>25 to 34</td>\n",
              "      <td>Satisfied</td>\n",
              "    </tr>\n",
              "    <tr>\n",
              "      <th>1</th>\n",
              "      <td>25 to 34</td>\n",
              "      <td>NaN</td>\n",
              "    </tr>\n",
              "    <tr>\n",
              "      <th>2</th>\n",
              "      <td>25 to 34</td>\n",
              "      <td>NaN</td>\n",
              "    </tr>\n",
              "    <tr>\n",
              "      <th>3</th>\n",
              "      <td>25 to 34</td>\n",
              "      <td>Neutral</td>\n",
              "    </tr>\n",
              "    <tr>\n",
              "      <th>4</th>\n",
              "      <td>21 to 24</td>\n",
              "      <td>Satisfied</td>\n",
              "    </tr>\n",
              "    <tr>\n",
              "      <th>...</th>\n",
              "      <td>...</td>\n",
              "      <td>...</td>\n",
              "    </tr>\n",
              "    <tr>\n",
              "      <th>255</th>\n",
              "      <td>21 to 24</td>\n",
              "      <td>Satisfied</td>\n",
              "    </tr>\n",
              "    <tr>\n",
              "      <th>256</th>\n",
              "      <td>25 to 34</td>\n",
              "      <td>Satisfied</td>\n",
              "    </tr>\n",
              "    <tr>\n",
              "      <th>257</th>\n",
              "      <td>25 to 34</td>\n",
              "      <td>NaN</td>\n",
              "    </tr>\n",
              "    <tr>\n",
              "      <th>258</th>\n",
              "      <td>55 to 64</td>\n",
              "      <td>NaN</td>\n",
              "    </tr>\n",
              "    <tr>\n",
              "      <th>259</th>\n",
              "      <td>25 to 34</td>\n",
              "      <td>Neutral</td>\n",
              "    </tr>\n",
              "  </tbody>\n",
              "</table>\n",
              "<p>260 rows × 2 columns</p>\n",
              "</div>"
            ],
            "text/plain": [
              "          Age Satisfaction\n",
              "0    25 to 34    Satisfied\n",
              "1    25 to 34          NaN\n",
              "2    25 to 34          NaN\n",
              "3    25 to 34      Neutral\n",
              "4    21 to 24    Satisfied\n",
              "..        ...          ...\n",
              "255  21 to 24    Satisfied\n",
              "256  25 to 34    Satisfied\n",
              "257  25 to 34          NaN\n",
              "258  55 to 64          NaN\n",
              "259  25 to 34      Neutral\n",
              "\n",
              "[260 rows x 2 columns]"
            ]
          },
          "metadata": {
            "tags": []
          },
          "execution_count": 20
        }
      ]
    },
    {
      "cell_type": "code",
      "metadata": {
        "id": "odWoSJmKaERi",
        "colab_type": "code",
        "colab": {
          "base_uri": "https://localhost:8080/",
          "height": 235
        },
        "outputId": "7f053e31-4f40-47cd-fa5d-db3be0820f7a"
      },
      "source": [
        " df_sat_pivot = df_satisfaction_age.pivot_table(index=['Age','Satisfaction'], columns='Satisfaction', aggfunc='size', fill_value=0)\n",
        "\n",
        " df_sat_pivot.head()"
      ],
      "execution_count": 34,
      "outputs": [
        {
          "output_type": "execute_result",
          "data": {
            "text/html": [
              "<div>\n",
              "<style scoped>\n",
              "    .dataframe tbody tr th:only-of-type {\n",
              "        vertical-align: middle;\n",
              "    }\n",
              "\n",
              "    .dataframe tbody tr th {\n",
              "        vertical-align: top;\n",
              "    }\n",
              "\n",
              "    .dataframe thead th {\n",
              "        text-align: right;\n",
              "    }\n",
              "</style>\n",
              "<table border=\"1\" class=\"dataframe\">\n",
              "  <thead>\n",
              "    <tr style=\"text-align: right;\">\n",
              "      <th></th>\n",
              "      <th>Satisfaction</th>\n",
              "      <th>Dissatisfied</th>\n",
              "      <th>Neutral</th>\n",
              "      <th>Satisfied</th>\n",
              "    </tr>\n",
              "    <tr>\n",
              "      <th>Age</th>\n",
              "      <th>Satisfaction</th>\n",
              "      <th></th>\n",
              "      <th></th>\n",
              "      <th></th>\n",
              "    </tr>\n",
              "  </thead>\n",
              "  <tbody>\n",
              "    <tr>\n",
              "      <th rowspan=\"3\" valign=\"top\">21 to 24</th>\n",
              "      <th>Dissatisfied</th>\n",
              "      <td>3</td>\n",
              "      <td>0</td>\n",
              "      <td>0</td>\n",
              "    </tr>\n",
              "    <tr>\n",
              "      <th>Neutral</th>\n",
              "      <td>0</td>\n",
              "      <td>10</td>\n",
              "      <td>0</td>\n",
              "    </tr>\n",
              "    <tr>\n",
              "      <th>Satisfied</th>\n",
              "      <td>0</td>\n",
              "      <td>0</td>\n",
              "      <td>16</td>\n",
              "    </tr>\n",
              "    <tr>\n",
              "      <th rowspan=\"2\" valign=\"top\">25 to 34</th>\n",
              "      <th>Dissatisfied</th>\n",
              "      <td>2</td>\n",
              "      <td>0</td>\n",
              "      <td>0</td>\n",
              "    </tr>\n",
              "    <tr>\n",
              "      <th>Neutral</th>\n",
              "      <td>0</td>\n",
              "      <td>23</td>\n",
              "      <td>0</td>\n",
              "    </tr>\n",
              "  </tbody>\n",
              "</table>\n",
              "</div>"
            ],
            "text/plain": [
              "Satisfaction           Dissatisfied  Neutral  Satisfied\n",
              "Age      Satisfaction                                  \n",
              "21 to 24 Dissatisfied             3        0          0\n",
              "         Neutral                  0       10          0\n",
              "         Satisfied                0        0         16\n",
              "25 to 34 Dissatisfied             2        0          0\n",
              "         Neutral                  0       23          0"
            ]
          },
          "metadata": {
            "tags": []
          },
          "execution_count": 34
        }
      ]
    },
    {
      "cell_type": "markdown",
      "metadata": {
        "id": "mBEL7TDkW3gC",
        "colab_type": "text"
      },
      "source": [
        "ax = df_sat_pivot.plot(kind='bar',  figsize=(10, 8))\n",
        "for p in ax.patches:[link text](https://)\n",
        "    ax.annotate(str(p.get_height()))"
      ]
    },
    {
      "cell_type": "code",
      "metadata": {
        "id": "IvGOIhYhh6jo",
        "colab_type": "code",
        "colab": {
          "base_uri": "https://localhost:8080/",
          "height": 601
        },
        "outputId": "56bb87e9-3474-430c-9c49-c492d00d728c"
      },
      "source": [
        "ax = df_sat_pivot.plot(kind='bar',  figsize=(10, 8))\n",
        "for p in ax.patches:\n",
        "    ax.annotate(str(p.get_height()), xy=(p.get_x(), p.get_height()))"
      ],
      "execution_count": 39,
      "outputs": [
        {
          "output_type": "display_data",
          "data": {
            "image/png": "[encoded data removed]",
            "text/plain": [
              "<Figure size 720x576 with 1 Axes>"
            ]
          },
          "metadata": {
            "tags": [],
            "needs_background": "light"
          }
        }
      ]
    },
    {
      "cell_type": "code",
      "metadata": {
        "id": "T7XjDj9ZeYJL",
        "colab_type": "code",
        "colab": {
          "base_uri": "https://localhost:8080/",
          "height": 282
        },
        "outputId": "d87fe0c5-2519-4b8d-ea5f-aa1741671b5c"
      },
      "source": [
        "import seaborn as sns\n",
        "sns.barplot(df_sat_pivot)\n",
        "\n",
        "\n",
        "# ax = df_sat_pivot.plot(kind='bar',  figsize=(10, 8))\n",
        "# for p in ax.patches:\n",
        "    # ax.annotate(str(p.get_height()), xy=(p.get_x(), p.get_height()))"
      ],
      "execution_count": 41,
      "outputs": [
        {
          "output_type": "execute_result",
          "data": {
            "text/plain": [
              "<matplotlib.axes._subplots.AxesSubplot at 0x7f2295a53550>"
            ]
          },
          "metadata": {
            "tags": []
          },
          "execution_count": 41
        },
        {
          "output_type": "display_data",
          "data": {
            "image/png": "[encoded data removed]",
            "text/plain": [
              "<Figure size 432x288 with 1 Axes>"
            ]
          },
          "metadata": {
            "tags": [],
            "needs_background": "light"
          }
        }
      ]
    },
    {
      "cell_type": "markdown",
      "metadata": {
        "id": "6uqKALF91LMD",
        "colab_type": "text"
      },
      "source": [
        "# age , helpfullness "
      ]
    },
    {
      "cell_type": "code",
      "metadata": {
        "id": "4VH9U0oQ3TyQ",
        "colab_type": "code",
        "colab": {
          "base_uri": "https://localhost:8080/",
          "height": 391
        },
        "outputId": "e192859c-1fed-41c8-9baa-cb202c3a42cc"
      },
      "source": [
        "df_age_help = df[['helpfulness', 'Age']]\n",
        "df.set_index('helpfulness', inplace=True)\n",
        "grouped = df.groupby('Age')\n",
        "fig, ax = plt.subplots()\n",
        "for label, df2 in grouped:\n",
        "    ax.plot(df2['Age'], label=label+' Age')\n",
        "    ax.plot(df2['helpfulness'], label=label+' helpfulness')\n",
        "plt.xticks(rotation=30)\n",
        "plt.xlabel(df.index.name)\n",
        "plt.legend()"
      ],
      "execution_count": 25,
      "outputs": [
        {
          "output_type": "error",
          "ename": "KeyError",
          "evalue": "ignored",
          "traceback": [
            "\u001b[0;31m---------------------------------------------------------------------------\u001b[0m",
            "\u001b[0;31mKeyError\u001b[0m                                  Traceback (most recent call last)",
            "\u001b[0;32m<ipython-input-25-8589ca11ed1f>\u001b[0m in \u001b[0;36m<module>\u001b[0;34m()\u001b[0m\n\u001b[0;32m----> 1\u001b[0;31m \u001b[0mdf_age_help\u001b[0m \u001b[0;34m=\u001b[0m \u001b[0mdf\u001b[0m\u001b[0;34m[\u001b[0m\u001b[0;34m[\u001b[0m\u001b[0;34m'helpfulness'\u001b[0m\u001b[0;34m,\u001b[0m \u001b[0;34m'Age'\u001b[0m\u001b[0;34m]\u001b[0m\u001b[0;34m]\u001b[0m\u001b[0;34m\u001b[0m\u001b[0;34m\u001b[0m\u001b[0m\n\u001b[0m\u001b[1;32m      2\u001b[0m \u001b[0mdf\u001b[0m\u001b[0;34m.\u001b[0m\u001b[0mset_index\u001b[0m\u001b[0;34m(\u001b[0m\u001b[0;34m'helpfulness'\u001b[0m\u001b[0;34m,\u001b[0m \u001b[0minplace\u001b[0m\u001b[0;34m=\u001b[0m\u001b[0;32mTrue\u001b[0m\u001b[0;34m)\u001b[0m\u001b[0;34m\u001b[0m\u001b[0;34m\u001b[0m\u001b[0m\n\u001b[1;32m      3\u001b[0m \u001b[0mgrouped\u001b[0m \u001b[0;34m=\u001b[0m \u001b[0mdf\u001b[0m\u001b[0;34m.\u001b[0m\u001b[0mgroupby\u001b[0m\u001b[0;34m(\u001b[0m\u001b[0;34m'Age'\u001b[0m\u001b[0;34m)\u001b[0m\u001b[0;34m\u001b[0m\u001b[0;34m\u001b[0m\u001b[0m\n\u001b[1;32m      4\u001b[0m \u001b[0mfig\u001b[0m\u001b[0;34m,\u001b[0m \u001b[0max\u001b[0m \u001b[0;34m=\u001b[0m \u001b[0mplt\u001b[0m\u001b[0;34m.\u001b[0m\u001b[0msubplots\u001b[0m\u001b[0;34m(\u001b[0m\u001b[0;34m)\u001b[0m\u001b[0;34m\u001b[0m\u001b[0;34m\u001b[0m\u001b[0m\n\u001b[1;32m      5\u001b[0m \u001b[0;32mfor\u001b[0m \u001b[0mlabel\u001b[0m\u001b[0;34m,\u001b[0m \u001b[0mdf2\u001b[0m \u001b[0;32min\u001b[0m \u001b[0mgrouped\u001b[0m\u001b[0;34m:\u001b[0m\u001b[0;34m\u001b[0m\u001b[0;34m\u001b[0m\u001b[0m\n",
            "\u001b[0;32m/usr/local/lib/python3.6/dist-packages/pandas/core/frame.py\u001b[0m in \u001b[0;36m__getitem__\u001b[0;34m(self, key)\u001b[0m\n\u001b[1;32m   2804\u001b[0m             \u001b[0;32mif\u001b[0m \u001b[0mis_iterator\u001b[0m\u001b[0;34m(\u001b[0m\u001b[0mkey\u001b[0m\u001b[0;34m)\u001b[0m\u001b[0;34m:\u001b[0m\u001b[0;34m\u001b[0m\u001b[0;34m\u001b[0m\u001b[0m\n\u001b[1;32m   2805\u001b[0m                 \u001b[0mkey\u001b[0m \u001b[0;34m=\u001b[0m \u001b[0mlist\u001b[0m\u001b[0;34m(\u001b[0m\u001b[0mkey\u001b[0m\u001b[0;34m)\u001b[0m\u001b[0;34m\u001b[0m\u001b[0;34m\u001b[0m\u001b[0m\n\u001b[0;32m-> 2806\u001b[0;31m             \u001b[0mindexer\u001b[0m \u001b[0;34m=\u001b[0m \u001b[0mself\u001b[0m\u001b[0;34m.\u001b[0m\u001b[0mloc\u001b[0m\u001b[0;34m.\u001b[0m\u001b[0m_get_listlike_indexer\u001b[0m\u001b[0;34m(\u001b[0m\u001b[0mkey\u001b[0m\u001b[0;34m,\u001b[0m \u001b[0maxis\u001b[0m\u001b[0;34m=\u001b[0m\u001b[0;36m1\u001b[0m\u001b[0;34m,\u001b[0m \u001b[0mraise_missing\u001b[0m\u001b[0;34m=\u001b[0m\u001b[0;32mTrue\u001b[0m\u001b[0;34m)\u001b[0m\u001b[0;34m[\u001b[0m\u001b[0;36m1\u001b[0m\u001b[0;34m]\u001b[0m\u001b[0;34m\u001b[0m\u001b[0;34m\u001b[0m\u001b[0m\n\u001b[0m\u001b[1;32m   2807\u001b[0m \u001b[0;34m\u001b[0m\u001b[0m\n\u001b[1;32m   2808\u001b[0m         \u001b[0;31m# take() does not accept boolean indexers\u001b[0m\u001b[0;34m\u001b[0m\u001b[0;34m\u001b[0m\u001b[0;34m\u001b[0m\u001b[0m\n",
            "\u001b[0;32m/usr/local/lib/python3.6/dist-packages/pandas/core/indexing.py\u001b[0m in \u001b[0;36m_get_listlike_indexer\u001b[0;34m(self, key, axis, raise_missing)\u001b[0m\n\u001b[1;32m   1551\u001b[0m \u001b[0;34m\u001b[0m\u001b[0m\n\u001b[1;32m   1552\u001b[0m         self._validate_read_indexer(\n\u001b[0;32m-> 1553\u001b[0;31m             \u001b[0mkeyarr\u001b[0m\u001b[0;34m,\u001b[0m \u001b[0mindexer\u001b[0m\u001b[0;34m,\u001b[0m \u001b[0mo\u001b[0m\u001b[0;34m.\u001b[0m\u001b[0m_get_axis_number\u001b[0m\u001b[0;34m(\u001b[0m\u001b[0maxis\u001b[0m\u001b[0;34m)\u001b[0m\u001b[0;34m,\u001b[0m \u001b[0mraise_missing\u001b[0m\u001b[0;34m=\u001b[0m\u001b[0mraise_missing\u001b[0m\u001b[0;34m\u001b[0m\u001b[0;34m\u001b[0m\u001b[0m\n\u001b[0m\u001b[1;32m   1554\u001b[0m         )\n\u001b[1;32m   1555\u001b[0m         \u001b[0;32mreturn\u001b[0m \u001b[0mkeyarr\u001b[0m\u001b[0;34m,\u001b[0m \u001b[0mindexer\u001b[0m\u001b[0;34m\u001b[0m\u001b[0;34m\u001b[0m\u001b[0m\n",
            "\u001b[0;32m/usr/local/lib/python3.6/dist-packages/pandas/core/indexing.py\u001b[0m in \u001b[0;36m_validate_read_indexer\u001b[0;34m(self, key, indexer, axis, raise_missing)\u001b[0m\n\u001b[1;32m   1644\u001b[0m             \u001b[0;32mif\u001b[0m \u001b[0;32mnot\u001b[0m \u001b[0;34m(\u001b[0m\u001b[0mself\u001b[0m\u001b[0;34m.\u001b[0m\u001b[0mname\u001b[0m \u001b[0;34m==\u001b[0m \u001b[0;34m\"loc\"\u001b[0m \u001b[0;32mand\u001b[0m \u001b[0;32mnot\u001b[0m \u001b[0mraise_missing\u001b[0m\u001b[0;34m)\u001b[0m\u001b[0;34m:\u001b[0m\u001b[0;34m\u001b[0m\u001b[0;34m\u001b[0m\u001b[0m\n\u001b[1;32m   1645\u001b[0m                 \u001b[0mnot_found\u001b[0m \u001b[0;34m=\u001b[0m \u001b[0mlist\u001b[0m\u001b[0;34m(\u001b[0m\u001b[0mset\u001b[0m\u001b[0;34m(\u001b[0m\u001b[0mkey\u001b[0m\u001b[0;34m)\u001b[0m \u001b[0;34m-\u001b[0m \u001b[0mset\u001b[0m\u001b[0;34m(\u001b[0m\u001b[0max\u001b[0m\u001b[0;34m)\u001b[0m\u001b[0;34m)\u001b[0m\u001b[0;34m\u001b[0m\u001b[0;34m\u001b[0m\u001b[0m\n\u001b[0;32m-> 1646\u001b[0;31m                 \u001b[0;32mraise\u001b[0m \u001b[0mKeyError\u001b[0m\u001b[0;34m(\u001b[0m\u001b[0;34mf\"{not_found} not in index\"\u001b[0m\u001b[0;34m)\u001b[0m\u001b[0;34m\u001b[0m\u001b[0;34m\u001b[0m\u001b[0m\n\u001b[0m\u001b[1;32m   1647\u001b[0m \u001b[0;34m\u001b[0m\u001b[0m\n\u001b[1;32m   1648\u001b[0m             \u001b[0;31m# we skip the warning on Categorical/Interval\u001b[0m\u001b[0;34m\u001b[0m\u001b[0;34m\u001b[0m\u001b[0;34m\u001b[0m\u001b[0m\n",
            "\u001b[0;31mKeyError\u001b[0m: \"['helpfulness'] not in index\""
          ]
        }
      ]
    },
    {
      "cell_type": "markdown",
      "metadata": {
        "id": "4mLB-rYJtzp3",
        "colab_type": "text"
      },
      "source": [
        "# Average Helpfulness rating per age group"
      ]
    },
    {
      "cell_type": "code",
      "metadata": {
        "id": "pPYDwSXxtwCY",
        "colab_type": "code",
        "colab": {
          "base_uri": "https://localhost:8080/",
          "height": 316
        },
        "outputId": "67bd7735-f536-4ba3-bd00-8779195c2cbe"
      },
      "source": [
        "df_age_help = df[['Age', ' helpfulness']]\n",
        "grouped = df.groupby('Age').mean().astype(int).plot(kind='bar', color=['C0', 'C1', 'C2', 'C3', 'C4'],figsize=(8, 4))\n",
        "for p in grouped.patches:\n",
        "    grouped.annotate(str(p.get_height()), xy=(p.get_x(), p.get_height()))"
      ],
      "execution_count": 26,
      "outputs": [
        {
          "output_type": "display_data",
          "data": {
            "image/png": "[encoded data removed]",
            "text/plain": [
              "<Figure size 576x288 with 1 Axes>"
            ]
          },
          "metadata": {
            "tags": [],
            "needs_background": "light"
          }
        }
      ]
    },
    {
      "cell_type": "code",
      "metadata": {
        "id": "3cGOE669vAgz",
        "colab_type": "code",
        "colab": {
          "base_uri": "https://localhost:8080/",
          "height": 374
        },
        "outputId": "f445ad77-eafd-4674-e3a7-4e770aeebaae"
      },
      "source": [
        "df.columns.to_list()\n"
      ],
      "execution_count": 27,
      "outputs": [
        {
          "output_type": "execute_result",
          "data": {
            "text/plain": [
              "['Gender',\n",
              " 'Age',\n",
              " 'VoiceAssistant',\n",
              " 'effectiveway',\n",
              " 'VAregularbasis',\n",
              " 'Commonpurpose',\n",
              " 'Otherpurposes',\n",
              " 'financialtransactions',\n",
              " 'frequency',\n",
              " 'Place',\n",
              " ' helpfulness',\n",
              " 'Satisfaction',\n",
              " 'Socialpresence',\n",
              " 'Enjoyable',\n",
              " 'Futureuse',\n",
              " 'Why do you prefer not using Voice Assistants?',\n",
              " 'Do you hesitate to share your personal information with a Voice Assistant?',\n",
              " 'Do you feel concerned to perform a financial transaction via Voice Assistants?',\n",
              " 'Do you feel the Voice Assistants are recording you?',\n",
              " 'Do you think Voice Assistants might help you with better communication with your Devices?',\n",
              " 'Do you plan to use Voice Assistant in the future?']"
            ]
          },
          "metadata": {
            "tags": []
          },
          "execution_count": 27
        }
      ]
    },
    {
      "cell_type": "code",
      "metadata": {
        "id": "RXJXPzSduRu-",
        "colab_type": "code",
        "colab": {
          "base_uri": "https://localhost:8080/",
          "height": 34
        },
        "outputId": "9a4e7a18-1ad3-4328-fb01-46321de6b50f"
      },
      "source": [
        "grouped"
      ],
      "execution_count": 28,
      "outputs": [
        {
          "output_type": "execute_result",
          "data": {
            "text/plain": [
              "<matplotlib.axes._subplots.AxesSubplot at 0x7f2295737da0>"
            ]
          },
          "metadata": {
            "tags": []
          },
          "execution_count": 28
        }
      ]
    },
    {
      "cell_type": "code",
      "metadata": {
        "id": "NmogKB3fujmd",
        "colab_type": "code",
        "colab": {
          "base_uri": "https://localhost:8080/",
          "height": 305
        },
        "outputId": "47a29ff3-7af0-4e20-f281-fe964bd61851"
      },
      "source": [
        "df_age_help = df[['Gender', ' helpfulness']]\n",
        "grouped = df.groupby('Gender').mean().round(2).plot(kind='bar', color=['C0', 'C1', 'C2', 'C3', 'C4'],figsize=(8, 4))\n",
        "for p in grouped.patches:\n",
        "    grouped.annotate(str(p.get_height()), xy=(p.get_x(), p.get_height()))"
      ],
      "execution_count": 29,
      "outputs": [
        {
          "output_type": "display_data",
          "data": {
            "image/png": "[encoded data removed]",
            "text/plain": [
              "<Figure size 576x288 with 1 Axes>"
            ]
          },
          "metadata": {
            "tags": [],
            "needs_background": "light"
          }
        }
      ]
    }
  ]
}